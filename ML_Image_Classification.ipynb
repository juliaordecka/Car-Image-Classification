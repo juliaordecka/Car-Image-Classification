{
  "cells": [
    {
      "cell_type": "code",
      "execution_count": null,
      "metadata": {
        "id": "cUq5KNtjXkUQ"
      },
      "outputs": [],
      "source": [
        "import zipfile\n",
        "import os\n",
        "import tensorflow as tf\n",
        "from tensorflow.keras import layers, models\n",
        "import numpy as np\n",
        "import matplotlib.pyplot as plt\n",
        "from sklearn.metrics import classification_report, confusion_matrix, f1_score, accuracy_score\n",
        "from tensorflow.keras.preprocessing.image import ImageDataGenerator\n",
        "from tensorflow.keras.regularizers import l2\n",
        "from tensorflow.keras.layers import Dropout\n",
        "from sklearn.utils.class_weight import compute_class_weight"
      ]
    },
    {
      "cell_type": "code",
      "execution_count": null,
      "metadata": {
        "id": "eLiS21tk8OVx"
      },
      "outputs": [],
      "source": [
        "from tensorflow.keras.optimizers import SGD"
      ]
    },
    {
      "cell_type": "code",
      "execution_count": null,
      "metadata": {
        "colab": {
          "base_uri": "https://localhost:8080/"
        },
        "collapsed": true,
        "id": "3cuVe4Tqr62r",
        "outputId": "3c9b21b5-b713-48b9-8167-9093184d29f9"
      },
      "outputs": [],
      "source": [
        "#import dataset files from google drive\n",
        "from google.colab import drive\n",
        "drive.mount('/content/drive')"
      ]
    },
    {
      "cell_type": "code",
      "execution_count": null,
      "metadata": {
        "id": "kN-e9GT_Xsl_"
      },
      "outputs": [],
      "source": [
        "data_dir = '/content/drive/MyDrive/ML2024_HW2_data'"
      ]
    },
    {
      "cell_type": "code",
      "execution_count": null,
      "metadata": {
        "id": "RJIwxaX2Qdof"
      },
      "outputs": [],
      "source": [
        "train_dir = os.path.join(data_dir, 'train')\n",
        "test_dir = os.path.join(data_dir, 'test')"
      ]
    },
    {
      "cell_type": "code",
      "execution_count": null,
      "metadata": {
        "colab": {
          "base_uri": "https://localhost:8080/"
        },
        "collapsed": true,
        "id": "ivQqnxPhTDLB",
        "outputId": "017edc3a-19cb-43ca-947c-6c4e77e9d0c8"
      },
      "outputs": [],
      "source": [
        "augmented_train_datagen = ImageDataGenerator(\n",
        "    rescale=1.0/255.0,\n",
        "    rotation_range=10,\n",
        "    width_shift_range=0.1,\n",
        "    height_shift_range=0.1,\n",
        "    zoom_range=0.1,\n",
        "    horizontal_flip=True\n",
        ")\n",
        "\n",
        "test_datagen = ImageDataGenerator(rescale=1.0/255.0)\n",
        "train_datagen = ImageDataGenerator(rescale=1.0/255.0)\n",
        "\n",
        "train_generator = train_datagen.flow_from_directory(\n",
        "    train_dir,\n",
        "    target_size=(64, 64),\n",
        "    batch_size=64,\n",
        "    class_mode='sparse'\n",
        ")\n",
        "\n",
        "train_generator_2 = augmented_train_datagen.flow_from_directory(\n",
        "    train_dir,\n",
        "    target_size=(64, 64),\n",
        "    batch_size=64,\n",
        "    class_mode='sparse'\n",
        ")\n",
        "\n",
        "test_generator = test_datagen.flow_from_directory(\n",
        "    test_dir,\n",
        "    target_size=(64, 64),\n",
        "    batch_size=64,\n",
        "    class_mode='sparse'\n",
        ")"
      ]
    },
    {
      "cell_type": "code",
      "execution_count": null,
      "metadata": {
        "id": "_eGcsxVCTJpd"
      },
      "outputs": [],
      "source": [
        "def create_model_1():\n",
        "    model = models.Sequential([\n",
        "        layers.Conv2D(32, (3, 3), activation='relu', input_shape=(64, 64, 3)),\n",
        "        layers.MaxPooling2D((2, 2)),\n",
        "        layers.Conv2D(64, (3, 3), activation='relu'),\n",
        "        layers.MaxPooling2D((2, 2)),\n",
        "        layers.Flatten(),\n",
        "        layers.Dense(128, activation='relu'),\n",
        "        layers.Dropout(0.5),\n",
        "        layers.Dense(5, activation='softmax')\n",
        "    ])\n",
        "    model.compile(optimizer='adam', loss='sparse_categorical_crossentropy', metrics=['accuracy']) #optimizer in model 2 is to be changed\n",
        "    return model\n"
      ]
    },
    {
      "cell_type": "code",
      "execution_count": null,
      "metadata": {
        "id": "S0VcCjxeON9S"
      },
      "outputs": [],
      "source": [
        "def create_model_2():\n",
        "    model = models.Sequential([\n",
        "        layers.Conv2D(32, (3, 3), activation='relu', input_shape=(64, 64, 3)),\n",
        "        layers.MaxPooling2D((2, 2)),\n",
        "        layers.Conv2D(64, (3, 3), activation='relu'),\n",
        "        layers.MaxPooling2D((2, 2)),\n",
        "        layers.Flatten(),\n",
        "        layers.Dense(128, activation='relu'),\n",
        "        layers.Dropout(0.5),\n",
        "        layers.Dense(5, activation='softmax')\n",
        "    ])\n",
        "    model.compile(optimizer=SGD(), loss='sparse_categorical_crossentropy', metrics=['accuracy']) #optimizer in model 2 is to be changed\n",
        "    return model"
      ]
    },
    {
      "cell_type": "code",
      "execution_count": null,
      "metadata": {
        "colab": {
          "base_uri": "https://localhost:8080/"
        },
        "collapsed": true,
        "id": "BlhmIEOcFKZV",
        "outputId": "d74ce298-f036-4f41-a949-ba8648c2ccfa"
      },
      "outputs": [],
      "source": [
        "class_counts = {\n",
        "    0: 1000,\n",
        "    1: 1500,\n",
        "    2: 1500,\n",
        "    3: 2000,\n",
        "    4: 369\n",
        "}\n",
        "\n",
        "classes = np.array(list(class_counts.keys()))\n",
        "counts = np.array(list(class_counts.values()))\n",
        "\n",
        "class_weights = compute_class_weight(class_weight='balanced', classes=classes, y=np.concatenate([\n",
        "    np.full(v, k) for k, v in class_counts.items()\n",
        "]))\n",
        "\n",
        "class_weight_dict = dict(zip(classes, class_weights))\n",
        "print(\"Wagi klas:\", class_weight_dict)"
      ]
    },
    {
      "cell_type": "code",
      "execution_count": null,
      "metadata": {
        "colab": {
          "base_uri": "https://localhost:8080/"
        },
        "collapsed": true,
        "id": "O6eZhPexTvdw",
        "outputId": "347e6248-b1b3-40ad-e92d-e419aa5181e1"
      },
      "outputs": [],
      "source": [
        "model_1 = create_model_1()\n",
        "history_1 = model_1.fit(train_generator, validation_data=test_generator, epochs=10, class_weight=class_weight_dict)"
      ]
    },
    {
      "cell_type": "code",
      "execution_count": null,
      "metadata": {
        "colab": {
          "base_uri": "https://localhost:8080/"
        },
        "collapsed": true,
        "id": "k35QD_27OYJ2",
        "outputId": "dd15158e-b3c1-4696-b49f-4dd896d12df1"
      },
      "outputs": [],
      "source": [
        "model_2 = create_model_2()\n",
        "history_2 = model_2.fit(train_generator_2, validation_data=test_generator, epochs=10, class_weight=class_weight_dict)"
      ]
    },
    {
      "cell_type": "code",
      "execution_count": null,
      "metadata": {
        "colab": {
          "base_uri": "https://localhost:8080/",
          "height": 386
        },
        "collapsed": true,
        "id": "iH2YoEaatsc-",
        "outputId": "99744564-2d7e-4a34-92a4-b61a08e29aaa"
      },
      "outputs": [],
      "source": [
        "print(model_1.summary())"
      ]
    },
    {
      "cell_type": "code",
      "execution_count": null,
      "metadata": {
        "id": "BSTWtkPDb5la"
      },
      "outputs": [],
      "source": [
        "from sklearn.metrics import confusion_matrix, classification_report, accuracy_score, f1_score, precision_score, recall_score\n",
        "import seaborn as sns\n"
      ]
    },
    {
      "cell_type": "code",
      "execution_count": null,
      "metadata": {
        "colab": {
          "base_uri": "https://localhost:8080/"
        },
        "collapsed": true,
        "id": "I7T40wsP1kFb",
        "outputId": "f8a61e24-bc9a-4e3b-8b36-2ba87955baf5"
      },
      "outputs": [],
      "source": [
        "print(train_generator.class_indices)"
      ]
    },
    {
      "cell_type": "code",
      "execution_count": null,
      "metadata": {
        "colab": {
          "base_uri": "https://localhost:8080/",
          "height": 1000
        },
        "collapsed": true,
        "id": "Esym3qhJcF7r",
        "outputId": "1464faa3-c3ca-4dab-d2d1-ed9ca07c9d45"
      },
      "outputs": [],
      "source": [
        "def plot_confusion_matrix(y_true, y_pred, title):\n",
        "    cm = confusion_matrix(y_true, y_pred)\n",
        "    plt.figure(figsize=(6, 6))\n",
        "    sns.heatmap(cm, annot=True, fmt='d', cmap='Blues', xticklabels=test_generator.class_indices.keys(),\n",
        "                yticklabels=test_generator.class_indices.keys())\n",
        "    plt.title(title)\n",
        "    plt.xlabel('Predicted')\n",
        "    plt.ylabel('Actual')\n",
        "    plt.show()\n",
        "    print(f\"{title} (text):\")\n",
        "    print(cm)\n",
        "    print()\n",
        "\n",
        "def plot_training_history(history_1, history_2):\n",
        "    train_acc_1 = history_1.history['accuracy']\n",
        "    val_acc_1 = history_1.history['val_accuracy']\n",
        "    train_loss_1 = history_1.history['loss']\n",
        "    val_loss_1 = history_1.history['val_loss']\n",
        "\n",
        "    train_acc_2 = history_2.history['accuracy']\n",
        "    val_acc_2 = history_2.history['val_accuracy']\n",
        "    train_loss_2 = history_2.history['loss']\n",
        "    val_loss_2 = history_2.history['val_loss']\n",
        "\n",
        "    epochs = range(1, len(train_acc_1) + 1)\n",
        "\n",
        "    plt.figure(figsize=(14, 6))\n",
        "\n",
        "    plt.subplot(1, 2, 1)\n",
        "    plt.plot(epochs, train_acc_1, label='Model_1 Train Accuracy', marker='o')\n",
        "    plt.plot(epochs, val_acc_1, label='Model_1 Val Accuracy', marker='o')\n",
        "    plt.plot(epochs, train_acc_2, label='Model_2 Train Accuracy', marker='s')\n",
        "    plt.plot(epochs, val_acc_2, label='Model_2 Val Accuracy', marker='s')\n",
        "    plt.title('Accuracy Comparison')\n",
        "    plt.xlabel('Epochs')\n",
        "    plt.ylabel('Accuracy')\n",
        "    plt.legend()\n",
        "\n",
        "    plt.subplot(1, 2, 2)\n",
        "    plt.plot(epochs, train_loss_1, label='Model_1 Train Loss', marker='o')\n",
        "    plt.plot(epochs, val_loss_1, label='Model_1 Val Loss', marker='o')\n",
        "    plt.plot(epochs, train_loss_2, label='Model_2 Train Loss', marker='s')\n",
        "    plt.plot(epochs, val_loss_2, label='Model_2 Val Loss', marker='s')\n",
        "    plt.title('Loss Comparison')\n",
        "    plt.xlabel('Epochs')\n",
        "    plt.ylabel('Loss')\n",
        "    plt.legend()\n",
        "\n",
        "    plt.tight_layout()\n",
        "    plt.show()\n",
        "\n",
        "y_true = test_generator.classes\n",
        "y_pred_1 = np.argmax(model_1.predict(test_generator), axis=1)\n",
        "y_pred_2 = np.argmax(model_2.predict(test_generator), axis=1)\n",
        "\n",
        "accuracy_1 = accuracy_score(y_true, y_pred_1)\n",
        "f1_1 = f1_score(y_true, y_pred_1, average='weighted')\n",
        "precision_1 = precision_score(y_true, y_pred_1, average='weighted')\n",
        "recall_1 = recall_score(y_true, y_pred_1, average='weighted')\n",
        "\n",
        "accuracy_2 = accuracy_score(y_true, y_pred_2)\n",
        "f1_2 = f1_score(y_true, y_pred_2, average='weighted')\n",
        "precision_2 = precision_score(y_true, y_pred_2, average='weighted')\n",
        "recall_2 = recall_score(y_true, y_pred_2, average='weighted')\n",
        "\n",
        "plot_training_history(history_1, history_2)\n",
        "\n",
        "plot_confusion_matrix(y_true, y_pred_1, \"Confusion Matrix: Model 1\")\n",
        "plot_confusion_matrix(y_true, y_pred_2, \"Confusion Matrix: Model 2\")\n",
        "\n",
        "print(\"Classification: Model 1\")\n",
        "print(classification_report(y_true, y_pred_1, target_names=test_generator.class_indices.keys()))\n",
        "\n",
        "print(\"Classification: Model 2\")\n",
        "print(classification_report(y_true, y_pred_2, target_names=test_generator.class_indices.keys()))\n",
        "\n",
        "print(f\"Model 1 - Accuracy: {accuracy_1:.2f}, F1 Score: {f1_1:.2f}, Precision: {precision_1:.2f}, Recall: {recall_1:.2f}\")\n",
        "print(f\"Model 2 - Accuracy: {accuracy_2:.2f}, F1 Score: {f1_2:.2f}, Precision: {precision_2:.2f}, Recall: {recall_2:.2f}\")\n",
        "\n",
        "\n"
      ]
    }
  ],
  "metadata": {
    "colab": {
      "provenance": [],
      "toc_visible": true
    },
    "kernelspec": {
      "display_name": "Python 3",
      "name": "python3"
    },
    "language_info": {
      "name": "python"
    }
  },
  "nbformat": 4,
  "nbformat_minor": 0
}
